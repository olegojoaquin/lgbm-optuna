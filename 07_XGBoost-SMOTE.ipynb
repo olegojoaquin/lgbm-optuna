{
 "cells": [
  {
   "cell_type": "code",
   "execution_count": 4,
   "id": "e88c2cc7-cf28-4491-931c-1a7051dc0f67",
   "metadata": {
    "executionInfo": {
     "elapsed": 2657,
     "status": "ok",
     "timestamp": 1660767224595,
     "user": {
      "displayName": "Joaquin Olego",
      "userId": "03367981204292782470"
     },
     "user_tz": 180
    },
    "id": "e88c2cc7-cf28-4491-931c-1a7051dc0f67"
   },
   "outputs": [],
   "source": [
    "import numpy as np\n",
    "import pandas as pd\n",
    "import seaborn as sns\n",
    "import matplotlib.pyplot as plt\n",
    "import pickle"
   ]
  },
  {
   "cell_type": "code",
   "execution_count": 5,
   "id": "d2915358",
   "metadata": {
    "scrolled": true
   },
   "outputs": [
    {
     "name": "stdout",
     "output_type": "stream",
     "text": [
      "Reset css and font defaults in:\r\n",
      "/home/joaquin/.jupyter/custom &\r\n",
      "/home/joaquin/.local/share/jupyter/nbextensions\r\n"
     ]
    }
   ],
   "source": [
    "!jt -r"
   ]
  },
  {
   "cell_type": "code",
   "execution_count": 6,
   "id": "vzteoWVD2Bcf",
   "metadata": {
    "colab": {
     "base_uri": "https://localhost:8080/"
    },
    "executionInfo": {
     "elapsed": 49145,
     "status": "ok",
     "timestamp": 1660767273735,
     "user": {
      "displayName": "Joaquin Olego",
      "userId": "03367981204292782470"
     },
     "user_tz": 180
    },
    "id": "vzteoWVD2Bcf",
    "outputId": "3b22adf8-4ccf-4772-c920-5c67316c1ce4",
    "scrolled": true
   },
   "outputs": [
    {
     "name": "stdout",
     "output_type": "stream",
     "text": [
      "Requirement already satisfied: imbalanced-learn in /home/joaquin/anaconda3/lib/python3.8/site-packages (0.9.1)\n",
      "Requirement already satisfied: joblib>=1.0.0 in /home/joaquin/anaconda3/lib/python3.8/site-packages (from imbalanced-learn) (1.0.1)\n",
      "Requirement already satisfied: scipy>=1.3.2 in /home/joaquin/anaconda3/lib/python3.8/site-packages (from imbalanced-learn) (1.6.2)\n",
      "Requirement already satisfied: numpy>=1.17.3 in /home/joaquin/anaconda3/lib/python3.8/site-packages (from imbalanced-learn) (1.19.5)\n",
      "Requirement already satisfied: scikit-learn>=1.1.0 in /home/joaquin/anaconda3/lib/python3.8/site-packages (from imbalanced-learn) (1.1.2)\n",
      "Requirement already satisfied: threadpoolctl>=2.0.0 in /home/joaquin/anaconda3/lib/python3.8/site-packages (from imbalanced-learn) (2.1.0)\n",
      "Requirement already satisfied: category_encoders in /home/joaquin/anaconda3/lib/python3.8/site-packages (2.5.0)\n",
      "Requirement already satisfied: patsy>=0.5.1 in /home/joaquin/anaconda3/lib/python3.8/site-packages (from category_encoders) (0.5.1)\n",
      "Requirement already satisfied: scipy>=1.0.0 in /home/joaquin/anaconda3/lib/python3.8/site-packages (from category_encoders) (1.6.2)\n",
      "Requirement already satisfied: scikit-learn>=0.20.0 in /home/joaquin/anaconda3/lib/python3.8/site-packages (from category_encoders) (1.1.2)\n",
      "Requirement already satisfied: statsmodels>=0.9.0 in /home/joaquin/anaconda3/lib/python3.8/site-packages (from category_encoders) (0.12.2)\n",
      "Requirement already satisfied: pandas>=1.0.5 in /home/joaquin/anaconda3/lib/python3.8/site-packages (from category_encoders) (1.2.4)\n",
      "Requirement already satisfied: numpy>=1.14.0 in /home/joaquin/anaconda3/lib/python3.8/site-packages (from category_encoders) (1.19.5)\n",
      "Requirement already satisfied: python-dateutil>=2.7.3 in /home/joaquin/anaconda3/lib/python3.8/site-packages (from pandas>=1.0.5->category_encoders) (2.8.1)\n",
      "Requirement already satisfied: pytz>=2017.3 in /home/joaquin/anaconda3/lib/python3.8/site-packages (from pandas>=1.0.5->category_encoders) (2021.1)\n",
      "Requirement already satisfied: six in /home/joaquin/anaconda3/lib/python3.8/site-packages (from patsy>=0.5.1->category_encoders) (1.15.0)\n",
      "Requirement already satisfied: threadpoolctl>=2.0.0 in /home/joaquin/anaconda3/lib/python3.8/site-packages (from scikit-learn>=0.20.0->category_encoders) (2.1.0)\n",
      "Requirement already satisfied: joblib>=1.0.0 in /home/joaquin/anaconda3/lib/python3.8/site-packages (from scikit-learn>=0.20.0->category_encoders) (1.0.1)\n",
      "Requirement already satisfied: optuna in /home/joaquin/anaconda3/lib/python3.8/site-packages (2.10.0)\n",
      "Requirement already satisfied: cliff in /home/joaquin/anaconda3/lib/python3.8/site-packages (from optuna) (3.9.0)\n",
      "Requirement already satisfied: alembic in /home/joaquin/anaconda3/lib/python3.8/site-packages (from optuna) (1.7.4)\n",
      "Requirement already satisfied: numpy in /home/joaquin/anaconda3/lib/python3.8/site-packages (from optuna) (1.19.5)\n",
      "Requirement already satisfied: sqlalchemy>=1.1.0 in /home/joaquin/anaconda3/lib/python3.8/site-packages (from optuna) (1.4.15)\n",
      "Requirement already satisfied: scipy!=1.4.0 in /home/joaquin/anaconda3/lib/python3.8/site-packages (from optuna) (1.6.2)\n",
      "Requirement already satisfied: tqdm in /home/joaquin/anaconda3/lib/python3.8/site-packages (from optuna) (4.59.0)\n",
      "Requirement already satisfied: colorlog in /home/joaquin/anaconda3/lib/python3.8/site-packages (from optuna) (6.5.0)\n",
      "Requirement already satisfied: cmaes>=0.8.2 in /home/joaquin/anaconda3/lib/python3.8/site-packages (from optuna) (0.8.2)\n",
      "Requirement already satisfied: PyYAML in /home/joaquin/anaconda3/lib/python3.8/site-packages (from optuna) (5.4.1)\n",
      "Requirement already satisfied: packaging>=20.0 in /home/joaquin/anaconda3/lib/python3.8/site-packages (from optuna) (20.9)\n",
      "Requirement already satisfied: pyparsing>=2.0.2 in /home/joaquin/anaconda3/lib/python3.8/site-packages (from packaging>=20.0->optuna) (2.4.7)\n",
      "Requirement already satisfied: greenlet!=0.4.17 in /home/joaquin/anaconda3/lib/python3.8/site-packages (from sqlalchemy>=1.1.0->optuna) (1.0.0)\n",
      "Requirement already satisfied: Mako in /home/joaquin/anaconda3/lib/python3.8/site-packages (from alembic->optuna) (1.1.5)\n",
      "Requirement already satisfied: importlib-metadata in /home/joaquin/anaconda3/lib/python3.8/site-packages (from alembic->optuna) (3.10.0)\n",
      "Requirement already satisfied: importlib-resources in /home/joaquin/anaconda3/lib/python3.8/site-packages (from alembic->optuna) (5.2.2)\n",
      "Requirement already satisfied: PrettyTable>=0.7.2 in /home/joaquin/anaconda3/lib/python3.8/site-packages (from cliff->optuna) (2.2.1)\n",
      "Requirement already satisfied: stevedore>=2.0.1 in /home/joaquin/anaconda3/lib/python3.8/site-packages (from cliff->optuna) (3.4.0)\n",
      "Requirement already satisfied: autopage>=0.4.0 in /home/joaquin/anaconda3/lib/python3.8/site-packages (from cliff->optuna) (0.4.0)\n",
      "Requirement already satisfied: cmd2>=1.0.0 in /home/joaquin/anaconda3/lib/python3.8/site-packages (from cliff->optuna) (2.2.0)\n",
      "Requirement already satisfied: pbr!=2.1.0,>=2.0.0 in /home/joaquin/anaconda3/lib/python3.8/site-packages (from cliff->optuna) (5.6.0)\n",
      "Requirement already satisfied: wcwidth>=0.1.7 in /home/joaquin/anaconda3/lib/python3.8/site-packages (from cmd2>=1.0.0->cliff->optuna) (0.2.5)\n",
      "Requirement already satisfied: pyperclip>=1.6 in /home/joaquin/anaconda3/lib/python3.8/site-packages (from cmd2>=1.0.0->cliff->optuna) (1.8.2)\n",
      "Requirement already satisfied: attrs>=16.3.0 in /home/joaquin/anaconda3/lib/python3.8/site-packages (from cmd2>=1.0.0->cliff->optuna) (20.3.0)\n",
      "Requirement already satisfied: colorama>=0.3.7 in /home/joaquin/anaconda3/lib/python3.8/site-packages (from cmd2>=1.0.0->cliff->optuna) (0.4.4)\n",
      "Requirement already satisfied: zipp>=0.5 in /home/joaquin/anaconda3/lib/python3.8/site-packages (from importlib-metadata->alembic->optuna) (3.4.1)\n",
      "Requirement already satisfied: MarkupSafe>=0.9.2 in /home/joaquin/anaconda3/lib/python3.8/site-packages (from Mako->alembic->optuna) (1.1.1)\n"
     ]
    }
   ],
   "source": [
    "!pip install imbalanced-learn\n",
    "!pip install category_encoders\n",
    "!pip install optuna"
   ]
  },
  {
   "cell_type": "code",
   "execution_count": 7,
   "id": "06177a9a-b741-4d1e-a1ff-253355b23b16",
   "metadata": {
    "colab": {
     "base_uri": "https://localhost:8080/"
    },
    "executionInfo": {
     "elapsed": 1529,
     "status": "ok",
     "timestamp": 1660767275260,
     "user": {
      "displayName": "Joaquin Olego",
      "userId": "03367981204292782470"
     },
     "user_tz": 180
    },
    "id": "06177a9a-b741-4d1e-a1ff-253355b23b16",
    "outputId": "ce6c3fba-c34a-4f22-f877-99e2ab0797c0"
   },
   "outputs": [],
   "source": [
    "from sklearn.model_selection import train_test_split\n",
    "from sklearn.pipeline import Pipeline\n",
    "from sklearn.pipeline import make_pipeline\n",
    "from sklearn.model_selection import KFold\n",
    "from sklearn.impute import SimpleImputer\n",
    "from sklearn.compose import ColumnTransformer\n",
    "\n",
    "from category_encoders.leave_one_out import LeaveOneOutEncoder\n",
    "\n",
    "from category_encoders.wrapper import NestedCVWrapper\n",
    "\n",
    "from sklearn.preprocessing import OneHotEncoder\n",
    "\n",
    "from imblearn.over_sampling import SMOTE\n",
    "import imblearn"
   ]
  },
  {
   "cell_type": "code",
   "execution_count": 8,
   "id": "dd9c1320-1261-42dc-ade9-1702519d6fbf",
   "metadata": {
    "executionInfo": {
     "elapsed": 2066,
     "status": "ok",
     "timestamp": 1660767277323,
     "user": {
      "displayName": "Joaquin Olego",
      "userId": "03367981204292782470"
     },
     "user_tz": 180
    },
    "id": "dd9c1320-1261-42dc-ade9-1702519d6fbf"
   },
   "outputs": [],
   "source": [
    "import optuna\n",
    "from optuna.exceptions import TrialPruned\n",
    "import lightgbm as lgb\n",
    "from lightgbm import LGBMClassifier"
   ]
  },
  {
   "cell_type": "code",
   "execution_count": 9,
   "id": "8430ddd8-8f72-4494-89e9-4ec87d8da482",
   "metadata": {
    "executionInfo": {
     "elapsed": 7,
     "status": "ok",
     "timestamp": 1660767277323,
     "user": {
      "displayName": "Joaquin Olego",
      "userId": "03367981204292782470"
     },
     "user_tz": 180
    },
    "id": "8430ddd8-8f72-4494-89e9-4ec87d8da482"
   },
   "outputs": [],
   "source": [
    "from sklearn.metrics import f1_score\n",
    "from sklearn.metrics import precision_score\n",
    "from sklearn.metrics import accuracy_score\n",
    "from sklearn.metrics import roc_auc_score"
   ]
  },
  {
   "cell_type": "code",
   "execution_count": 10,
   "id": "gzsYUziFdPX4",
   "metadata": {
    "executionInfo": {
     "elapsed": 6,
     "status": "ok",
     "timestamp": 1660767277324,
     "user": {
      "displayName": "Joaquin Olego",
      "userId": "03367981204292782470"
     },
     "user_tz": 180
    },
    "id": "gzsYUziFdPX4"
   },
   "outputs": [],
   "source": [
    "from sklearn.metrics import recall_score\n"
   ]
  },
  {
   "cell_type": "code",
   "execution_count": 11,
   "id": "a94b3179",
   "metadata": {},
   "outputs": [
    {
     "name": "stdout",
     "output_type": "stream",
     "text": [
      "Requirement already satisfied: xgboost in /home/joaquin/anaconda3/lib/python3.8/site-packages (1.6.1)\r\n",
      "Requirement already satisfied: numpy in /home/joaquin/anaconda3/lib/python3.8/site-packages (from xgboost) (1.19.5)\r\n",
      "Requirement already satisfied: scipy in /home/joaquin/anaconda3/lib/python3.8/site-packages (from xgboost) (1.6.2)\r\n"
     ]
    }
   ],
   "source": [
    "!pip install xgboost"
   ]
  },
  {
   "cell_type": "code",
   "execution_count": 12,
   "id": "vMohw_vTVZQW",
   "metadata": {
    "executionInfo": {
     "elapsed": 7,
     "status": "ok",
     "timestamp": 1660767277326,
     "user": {
      "displayName": "Joaquin Olego",
      "userId": "03367981204292782470"
     },
     "user_tz": 180
    },
    "id": "vMohw_vTVZQW"
   },
   "outputs": [],
   "source": [
    "from xgboost import XGBClassifier\n",
    "from sklearn.model_selection import cross_val_score"
   ]
  },
  {
   "cell_type": "markdown",
   "id": "4dce2e2d-eb9c-4a0f-b964-7af52bdb840e",
   "metadata": {
    "id": "4dce2e2d-eb9c-4a0f-b964-7af52bdb840e"
   },
   "source": [
    "# Levanto DF"
   ]
  },
  {
   "cell_type": "code",
   "execution_count": null,
   "id": "zYz1-vLO2EZq",
   "metadata": {
    "colab": {
     "base_uri": "https://localhost:8080/"
    },
    "executionInfo": {
     "elapsed": 2105,
     "status": "ok",
     "timestamp": 1660767279864,
     "user": {
      "displayName": "Joaquin Olego",
      "userId": "03367981204292782470"
     },
     "user_tz": 180
    },
    "id": "zYz1-vLO2EZq",
    "outputId": "a01724f7-cf0b-4f76-a3d6-61e4f047f6cd"
   },
   "outputs": [],
   "source": []
  },
  {
   "cell_type": "code",
   "execution_count": 13,
   "id": "31b53894-dc83-41d3-a083-28634d6509c3",
   "metadata": {
    "id": "31b53894-dc83-41d3-a083-28634d6509c3"
   },
   "outputs": [],
   "source": [
    "train_transactions = pd.read_csv('./train_transaction.csv')\n",
    "train_identity = pd.read_csv('./train_identity.csv')\n",
    "#test_transactions = pd.read_csv('test_transaction.csv')\n",
    "#test_identity = pd.read_csv('test_identity.csv')"
   ]
  },
  {
   "cell_type": "code",
   "execution_count": 14,
   "id": "307c8af9-c27b-4e72-90ba-a12058d22870",
   "metadata": {
    "id": "307c8af9-c27b-4e72-90ba-a12058d22870"
   },
   "outputs": [],
   "source": [
    "df_train = pd.merge(train_transactions,train_identity, how ='inner', on = 'TransactionID')#.sample(frac=0.25)\n",
    "#df_test = pd.merge(test_transactions,test_identity, how ='inner', on = 'TransactionID')"
   ]
  },
  {
   "cell_type": "code",
   "execution_count": 15,
   "id": "05e875e3-d8bd-46dc-96f6-059c90097d47",
   "metadata": {
    "id": "05e875e3-d8bd-46dc-96f6-059c90097d47"
   },
   "outputs": [
    {
     "data": {
      "text/plain": [
       "(144233, 434)"
      ]
     },
     "execution_count": 15,
     "metadata": {},
     "output_type": "execute_result"
    }
   ],
   "source": [
    "df_train.shape"
   ]
  },
  {
   "cell_type": "markdown",
   "id": "86224045-64f1-4faf-b26b-5e2e4456c08d",
   "metadata": {
    "id": "86224045-64f1-4faf-b26b-5e2e4456c08d"
   },
   "source": [
    "# Esquema de Columnas"
   ]
  },
  {
   "cell_type": "code",
   "execution_count": 16,
   "id": "d17d9880-2ff5-45ed-8011-306de4217fe2",
   "metadata": {
    "id": "d17d9880-2ff5-45ed-8011-306de4217fe2"
   },
   "outputs": [],
   "source": [
    "numeric_features = df_train.select_dtypes(include='number').columns\n",
    "object_features = df_train.select_dtypes(include='object').columns\n",
    "\n",
    "numeric_features = [ x for x in numeric_features if x not in ['TransactionID','isFraud','TransactionDT']]\n",
    "object_features = [ x for x in object_features if x not in ['TransactionID','isFraud','TransactionDT']]"
   ]
  },
  {
   "cell_type": "code",
   "execution_count": 17,
   "id": "32f16ef7-b1f7-496b-b15a-161673adf194",
   "metadata": {
    "id": "32f16ef7-b1f7-496b-b15a-161673adf194"
   },
   "outputs": [
    {
     "name": "stdout",
     "output_type": "stream",
     "text": [
      "Cantidad de Columnas Numericas: 400\n",
      "Cantidad de Columnas Categoricas: 31\n"
     ]
    }
   ],
   "source": [
    "print(\"Cantidad de Columnas Numericas: \"+ str(len(numeric_features)))\n",
    "print(\"Cantidad de Columnas Categoricas: \"+ str(len(object_features)))"
   ]
  },
  {
   "cell_type": "code",
   "execution_count": 18,
   "id": "0ba39470-8ba2-4f0e-b5ab-2cf806052c25",
   "metadata": {
    "id": "0ba39470-8ba2-4f0e-b5ab-2cf806052c25"
   },
   "outputs": [
    {
     "data": {
      "text/plain": [
       "0    0.92153\n",
       "1    0.07847\n",
       "Name: isFraud, dtype: float64"
      ]
     },
     "execution_count": 18,
     "metadata": {},
     "output_type": "execute_result"
    }
   ],
   "source": [
    "df_train.isFraud.value_counts(normalize=True)"
   ]
  },
  {
   "cell_type": "code",
   "execution_count": 19,
   "id": "73b53d3b-fff2-49b8-9464-e3515bd28c02",
   "metadata": {
    "id": "73b53d3b-fff2-49b8-9464-e3515bd28c02"
   },
   "outputs": [
    {
     "data": {
      "text/plain": [
       "0"
      ]
     },
     "execution_count": 19,
     "metadata": {},
     "output_type": "execute_result"
    }
   ],
   "source": [
    "df_train.isFraud.isna().sum()"
   ]
  },
  {
   "cell_type": "markdown",
   "id": "c76b8b22-a8a4-45b5-90b7-61cff08608f2",
   "metadata": {
    "id": "c76b8b22-a8a4-45b5-90b7-61cff08608f2"
   },
   "source": [
    "# Split Train Test "
   ]
  },
  {
   "cell_type": "code",
   "execution_count": 20,
   "id": "890fb78c",
   "metadata": {
    "id": "890fb78c"
   },
   "outputs": [
    {
     "data": {
      "text/html": [
       "<div>\n",
       "<style scoped>\n",
       "    .dataframe tbody tr th:only-of-type {\n",
       "        vertical-align: middle;\n",
       "    }\n",
       "\n",
       "    .dataframe tbody tr th {\n",
       "        vertical-align: top;\n",
       "    }\n",
       "\n",
       "    .dataframe thead th {\n",
       "        text-align: right;\n",
       "    }\n",
       "</style>\n",
       "<table border=\"1\" class=\"dataframe\">\n",
       "  <thead>\n",
       "    <tr style=\"text-align: right;\">\n",
       "      <th></th>\n",
       "      <th>TransactionID</th>\n",
       "      <th>isFraud</th>\n",
       "      <th>TransactionDT</th>\n",
       "      <th>TransactionAmt</th>\n",
       "      <th>ProductCD</th>\n",
       "      <th>card1</th>\n",
       "      <th>card2</th>\n",
       "      <th>card3</th>\n",
       "      <th>card4</th>\n",
       "      <th>card5</th>\n",
       "      <th>...</th>\n",
       "      <th>id_31</th>\n",
       "      <th>id_32</th>\n",
       "      <th>id_33</th>\n",
       "      <th>id_34</th>\n",
       "      <th>id_35</th>\n",
       "      <th>id_36</th>\n",
       "      <th>id_37</th>\n",
       "      <th>id_38</th>\n",
       "      <th>DeviceType</th>\n",
       "      <th>DeviceInfo</th>\n",
       "    </tr>\n",
       "  </thead>\n",
       "  <tbody>\n",
       "    <tr>\n",
       "      <th>0</th>\n",
       "      <td>2987004</td>\n",
       "      <td>0</td>\n",
       "      <td>86506</td>\n",
       "      <td>50.000</td>\n",
       "      <td>H</td>\n",
       "      <td>4497</td>\n",
       "      <td>514.0</td>\n",
       "      <td>150.0</td>\n",
       "      <td>mastercard</td>\n",
       "      <td>102.0</td>\n",
       "      <td>...</td>\n",
       "      <td>samsung browser 6.2</td>\n",
       "      <td>32.0</td>\n",
       "      <td>2220x1080</td>\n",
       "      <td>match_status:2</td>\n",
       "      <td>T</td>\n",
       "      <td>F</td>\n",
       "      <td>T</td>\n",
       "      <td>T</td>\n",
       "      <td>mobile</td>\n",
       "      <td>SAMSUNG SM-G892A Build/NRD90M</td>\n",
       "    </tr>\n",
       "    <tr>\n",
       "      <th>1</th>\n",
       "      <td>2987008</td>\n",
       "      <td>0</td>\n",
       "      <td>86535</td>\n",
       "      <td>15.000</td>\n",
       "      <td>H</td>\n",
       "      <td>2803</td>\n",
       "      <td>100.0</td>\n",
       "      <td>150.0</td>\n",
       "      <td>visa</td>\n",
       "      <td>226.0</td>\n",
       "      <td>...</td>\n",
       "      <td>mobile safari 11.0</td>\n",
       "      <td>32.0</td>\n",
       "      <td>1334x750</td>\n",
       "      <td>match_status:1</td>\n",
       "      <td>T</td>\n",
       "      <td>F</td>\n",
       "      <td>F</td>\n",
       "      <td>T</td>\n",
       "      <td>mobile</td>\n",
       "      <td>iOS Device</td>\n",
       "    </tr>\n",
       "    <tr>\n",
       "      <th>2</th>\n",
       "      <td>2987010</td>\n",
       "      <td>0</td>\n",
       "      <td>86549</td>\n",
       "      <td>75.887</td>\n",
       "      <td>C</td>\n",
       "      <td>16496</td>\n",
       "      <td>352.0</td>\n",
       "      <td>117.0</td>\n",
       "      <td>mastercard</td>\n",
       "      <td>134.0</td>\n",
       "      <td>...</td>\n",
       "      <td>chrome 62.0</td>\n",
       "      <td>NaN</td>\n",
       "      <td>NaN</td>\n",
       "      <td>NaN</td>\n",
       "      <td>F</td>\n",
       "      <td>F</td>\n",
       "      <td>T</td>\n",
       "      <td>T</td>\n",
       "      <td>desktop</td>\n",
       "      <td>Windows</td>\n",
       "    </tr>\n",
       "    <tr>\n",
       "      <th>3</th>\n",
       "      <td>2987011</td>\n",
       "      <td>0</td>\n",
       "      <td>86555</td>\n",
       "      <td>16.495</td>\n",
       "      <td>C</td>\n",
       "      <td>4461</td>\n",
       "      <td>375.0</td>\n",
       "      <td>185.0</td>\n",
       "      <td>mastercard</td>\n",
       "      <td>224.0</td>\n",
       "      <td>...</td>\n",
       "      <td>chrome 62.0</td>\n",
       "      <td>NaN</td>\n",
       "      <td>NaN</td>\n",
       "      <td>NaN</td>\n",
       "      <td>F</td>\n",
       "      <td>F</td>\n",
       "      <td>T</td>\n",
       "      <td>T</td>\n",
       "      <td>desktop</td>\n",
       "      <td>NaN</td>\n",
       "    </tr>\n",
       "    <tr>\n",
       "      <th>4</th>\n",
       "      <td>2987016</td>\n",
       "      <td>0</td>\n",
       "      <td>86620</td>\n",
       "      <td>30.000</td>\n",
       "      <td>H</td>\n",
       "      <td>1790</td>\n",
       "      <td>555.0</td>\n",
       "      <td>150.0</td>\n",
       "      <td>visa</td>\n",
       "      <td>226.0</td>\n",
       "      <td>...</td>\n",
       "      <td>chrome 62.0</td>\n",
       "      <td>24.0</td>\n",
       "      <td>1280x800</td>\n",
       "      <td>match_status:2</td>\n",
       "      <td>T</td>\n",
       "      <td>F</td>\n",
       "      <td>T</td>\n",
       "      <td>T</td>\n",
       "      <td>desktop</td>\n",
       "      <td>MacOS</td>\n",
       "    </tr>\n",
       "  </tbody>\n",
       "</table>\n",
       "<p>5 rows × 434 columns</p>\n",
       "</div>"
      ],
      "text/plain": [
       "   TransactionID  isFraud  TransactionDT  TransactionAmt ProductCD  card1  \\\n",
       "0        2987004        0          86506          50.000         H   4497   \n",
       "1        2987008        0          86535          15.000         H   2803   \n",
       "2        2987010        0          86549          75.887         C  16496   \n",
       "3        2987011        0          86555          16.495         C   4461   \n",
       "4        2987016        0          86620          30.000         H   1790   \n",
       "\n",
       "   card2  card3       card4  card5  ...                id_31  id_32  \\\n",
       "0  514.0  150.0  mastercard  102.0  ...  samsung browser 6.2   32.0   \n",
       "1  100.0  150.0        visa  226.0  ...   mobile safari 11.0   32.0   \n",
       "2  352.0  117.0  mastercard  134.0  ...          chrome 62.0    NaN   \n",
       "3  375.0  185.0  mastercard  224.0  ...          chrome 62.0    NaN   \n",
       "4  555.0  150.0        visa  226.0  ...          chrome 62.0   24.0   \n",
       "\n",
       "       id_33           id_34  id_35 id_36 id_37  id_38  DeviceType  \\\n",
       "0  2220x1080  match_status:2      T     F     T      T      mobile   \n",
       "1   1334x750  match_status:1      T     F     F      T      mobile   \n",
       "2        NaN             NaN      F     F     T      T     desktop   \n",
       "3        NaN             NaN      F     F     T      T     desktop   \n",
       "4   1280x800  match_status:2      T     F     T      T     desktop   \n",
       "\n",
       "                      DeviceInfo  \n",
       "0  SAMSUNG SM-G892A Build/NRD90M  \n",
       "1                     iOS Device  \n",
       "2                        Windows  \n",
       "3                            NaN  \n",
       "4                          MacOS  \n",
       "\n",
       "[5 rows x 434 columns]"
      ]
     },
     "execution_count": 20,
     "metadata": {},
     "output_type": "execute_result"
    }
   ],
   "source": [
    "\n",
    "df2 = df_train.dropna(subset=['isFraud'])\n",
    "df2.head()"
   ]
  },
  {
   "cell_type": "code",
   "execution_count": 21,
   "id": "7857a4b0",
   "metadata": {
    "id": "7857a4b0"
   },
   "outputs": [],
   "source": [
    "X, X_val, y, y_val = train_test_split(df2.drop(['isFraud'],axis=1),df2.isFraud, test_size=0.3, random_state=42,stratify=df2.isFraud)\n"
   ]
  },
  {
   "cell_type": "code",
   "execution_count": null,
   "id": "cd839dbe-a756-4809-baae-0cdab762d677",
   "metadata": {
    "id": "cd839dbe-a756-4809-baae-0cdab762d677"
   },
   "outputs": [],
   "source": []
  },
  {
   "cell_type": "markdown",
   "id": "8f867408-cb4c-4e9f-9beb-2a560fa68e25",
   "metadata": {
    "id": "8f867408-cb4c-4e9f-9beb-2a560fa68e25"
   },
   "source": [
    "# Transformacion de Variables "
   ]
  },
  {
   "cell_type": "code",
   "execution_count": 22,
   "id": "b37fe995-ad37-4cca-8d8c-119e50d1ba97",
   "metadata": {
    "id": "b37fe995-ad37-4cca-8d8c-119e50d1ba97"
   },
   "outputs": [],
   "source": [
    "cols_tr =  numeric_features + object_features\n"
   ]
  },
  {
   "cell_type": "code",
   "execution_count": 23,
   "id": "71884f89-941c-4e12-a18b-7c58f5a35c00",
   "metadata": {
    "id": "71884f89-941c-4e12-a18b-7c58f5a35c00"
   },
   "outputs": [],
   "source": [
    "fill_nan_defaults = {\n",
    "    \"numerical\": -999,\n",
    "    \"categorical\": \"null\",\n",
    "    'ignored' : \"null\"\n",
    "}"
   ]
  },
  {
   "cell_type": "code",
   "execution_count": 24,
   "id": "c0b2abfb-e50f-4039-8f21-79d19e96e18a",
   "metadata": {
    "id": "c0b2abfb-e50f-4039-8f21-79d19e96e18a"
   },
   "outputs": [],
   "source": [
    "#ignored_transformer = Pipeline([('imputer', SimpleImputer(strategy='constant',fill_value=fill_nan_defaults['ignored']))])\n",
    "numeric_transformer = Pipeline([('imputer', SimpleImputer(strategy='constant',fill_value=fill_nan_defaults['numerical']))])\n",
    "categorical_transformer = Pipeline([('imputer', SimpleImputer(strategy='constant',fill_value=fill_nan_defaults['categorical'])),\n",
    "                            ('loenc', NestedCVWrapper(LeaveOneOutEncoder(random_state=17),cv = 5 , random_state=42))])\n",
    "\n",
    "\n",
    "preprocessor = ColumnTransformer(\n",
    "    transformers=[\n",
    "    #    (\"ignored\", ignored_transformer, ignored_features),\n",
    "        (\"num\", numeric_transformer, numeric_features),\n",
    "        (\"cat\", categorical_transformer, object_features),\n",
    "    ]\n",
    ")"
   ]
  },
  {
   "cell_type": "code",
   "execution_count": 25,
   "id": "511225e4-3644-405c-92fe-65e37455e0e8",
   "metadata": {
    "id": "511225e4-3644-405c-92fe-65e37455e0e8"
   },
   "outputs": [],
   "source": [
    "X_pre = preprocessor.fit_transform(X,y)\n",
    "X_val_pre = preprocessor.transform(X_val)"
   ]
  },
  {
   "cell_type": "code",
   "execution_count": 26,
   "id": "1dc03573-2af8-49fe-83a7-743583eb6d45",
   "metadata": {
    "id": "1dc03573-2af8-49fe-83a7-743583eb6d45"
   },
   "outputs": [
    {
     "data": {
      "text/plain": [
       "(100963, 431)"
      ]
     },
     "execution_count": 26,
     "metadata": {},
     "output_type": "execute_result"
    }
   ],
   "source": [
    "X_pre.shape"
   ]
  },
  {
   "cell_type": "code",
   "execution_count": 27,
   "id": "0c22f5f3-e1df-4d0b-a70b-b433f6af8819",
   "metadata": {
    "id": "0c22f5f3-e1df-4d0b-a70b-b433f6af8819"
   },
   "outputs": [],
   "source": [
    "X_pre_pd = pd.DataFrame(X_pre)\n",
    "X_pre_pd.columns = cols_tr"
   ]
  },
  {
   "cell_type": "code",
   "execution_count": 28,
   "id": "b9097dce-64fb-4753-8d76-b532836f1491",
   "metadata": {
    "id": "b9097dce-64fb-4753-8d76-b532836f1491"
   },
   "outputs": [
    {
     "data": {
      "text/html": [
       "<div>\n",
       "<style scoped>\n",
       "    .dataframe tbody tr th:only-of-type {\n",
       "        vertical-align: middle;\n",
       "    }\n",
       "\n",
       "    .dataframe tbody tr th {\n",
       "        vertical-align: top;\n",
       "    }\n",
       "\n",
       "    .dataframe thead th {\n",
       "        text-align: right;\n",
       "    }\n",
       "</style>\n",
       "<table border=\"1\" class=\"dataframe\">\n",
       "  <thead>\n",
       "    <tr style=\"text-align: right;\">\n",
       "      <th></th>\n",
       "      <th>TransactionAmt</th>\n",
       "      <th>card1</th>\n",
       "      <th>card2</th>\n",
       "      <th>card3</th>\n",
       "      <th>card5</th>\n",
       "      <th>addr1</th>\n",
       "      <th>addr2</th>\n",
       "      <th>dist1</th>\n",
       "      <th>dist2</th>\n",
       "      <th>C1</th>\n",
       "      <th>...</th>\n",
       "      <th>id_30</th>\n",
       "      <th>id_31</th>\n",
       "      <th>id_33</th>\n",
       "      <th>id_34</th>\n",
       "      <th>id_35</th>\n",
       "      <th>id_36</th>\n",
       "      <th>id_37</th>\n",
       "      <th>id_38</th>\n",
       "      <th>DeviceType</th>\n",
       "      <th>DeviceInfo</th>\n",
       "    </tr>\n",
       "  </thead>\n",
       "  <tbody>\n",
       "    <tr>\n",
       "      <th>0</th>\n",
       "      <td>100.000</td>\n",
       "      <td>15875.0</td>\n",
       "      <td>555.0</td>\n",
       "      <td>150.0</td>\n",
       "      <td>226.0</td>\n",
       "      <td>315.0</td>\n",
       "      <td>87.0</td>\n",
       "      <td>-999.0</td>\n",
       "      <td>-999.0</td>\n",
       "      <td>1.0</td>\n",
       "      <td>...</td>\n",
       "      <td>0.055180</td>\n",
       "      <td>0.052937</td>\n",
       "      <td>0.058298</td>\n",
       "      <td>0.064618</td>\n",
       "      <td>0.045131</td>\n",
       "      <td>0.081638</td>\n",
       "      <td>0.064254</td>\n",
       "      <td>0.097751</td>\n",
       "      <td>0.101652</td>\n",
       "      <td>0.063401</td>\n",
       "    </tr>\n",
       "    <tr>\n",
       "      <th>1</th>\n",
       "      <td>43.382</td>\n",
       "      <td>14276.0</td>\n",
       "      <td>177.0</td>\n",
       "      <td>185.0</td>\n",
       "      <td>137.0</td>\n",
       "      <td>-999.0</td>\n",
       "      <td>-999.0</td>\n",
       "      <td>-999.0</td>\n",
       "      <td>-999.0</td>\n",
       "      <td>2.0</td>\n",
       "      <td>...</td>\n",
       "      <td>0.117835</td>\n",
       "      <td>0.091638</td>\n",
       "      <td>0.111753</td>\n",
       "      <td>0.117687</td>\n",
       "      <td>0.122390</td>\n",
       "      <td>0.081638</td>\n",
       "      <td>0.083800</td>\n",
       "      <td>0.097751</td>\n",
       "      <td>0.065296</td>\n",
       "      <td>0.064707</td>\n",
       "    </tr>\n",
       "    <tr>\n",
       "      <th>2</th>\n",
       "      <td>200.000</td>\n",
       "      <td>17947.0</td>\n",
       "      <td>371.0</td>\n",
       "      <td>150.0</td>\n",
       "      <td>226.0</td>\n",
       "      <td>299.0</td>\n",
       "      <td>87.0</td>\n",
       "      <td>-999.0</td>\n",
       "      <td>-999.0</td>\n",
       "      <td>1.0</td>\n",
       "      <td>...</td>\n",
       "      <td>0.031033</td>\n",
       "      <td>0.099742</td>\n",
       "      <td>0.027930</td>\n",
       "      <td>0.039809</td>\n",
       "      <td>0.044742</td>\n",
       "      <td>0.081877</td>\n",
       "      <td>0.083433</td>\n",
       "      <td>0.097550</td>\n",
       "      <td>0.064939</td>\n",
       "      <td>0.064425</td>\n",
       "    </tr>\n",
       "    <tr>\n",
       "      <th>3</th>\n",
       "      <td>64.770</td>\n",
       "      <td>9300.0</td>\n",
       "      <td>103.0</td>\n",
       "      <td>185.0</td>\n",
       "      <td>138.0</td>\n",
       "      <td>-999.0</td>\n",
       "      <td>-999.0</td>\n",
       "      <td>-999.0</td>\n",
       "      <td>-999.0</td>\n",
       "      <td>1.0</td>\n",
       "      <td>...</td>\n",
       "      <td>0.117835</td>\n",
       "      <td>0.104275</td>\n",
       "      <td>0.111753</td>\n",
       "      <td>0.117687</td>\n",
       "      <td>0.122390</td>\n",
       "      <td>0.081638</td>\n",
       "      <td>0.083800</td>\n",
       "      <td>0.097751</td>\n",
       "      <td>0.065296</td>\n",
       "      <td>0.106581</td>\n",
       "    </tr>\n",
       "    <tr>\n",
       "      <th>4</th>\n",
       "      <td>100.000</td>\n",
       "      <td>7262.0</td>\n",
       "      <td>583.0</td>\n",
       "      <td>150.0</td>\n",
       "      <td>135.0</td>\n",
       "      <td>330.0</td>\n",
       "      <td>87.0</td>\n",
       "      <td>-999.0</td>\n",
       "      <td>-999.0</td>\n",
       "      <td>1.0</td>\n",
       "      <td>...</td>\n",
       "      <td>0.030965</td>\n",
       "      <td>0.057440</td>\n",
       "      <td>0.028532</td>\n",
       "      <td>0.038956</td>\n",
       "      <td>0.044717</td>\n",
       "      <td>0.082000</td>\n",
       "      <td>0.083767</td>\n",
       "      <td>0.098747</td>\n",
       "      <td>0.065030</td>\n",
       "      <td>0.065319</td>\n",
       "    </tr>\n",
       "  </tbody>\n",
       "</table>\n",
       "<p>5 rows × 431 columns</p>\n",
       "</div>"
      ],
      "text/plain": [
       "   TransactionAmt    card1  card2  card3  card5  addr1  addr2  dist1  dist2  \\\n",
       "0         100.000  15875.0  555.0  150.0  226.0  315.0   87.0 -999.0 -999.0   \n",
       "1          43.382  14276.0  177.0  185.0  137.0 -999.0 -999.0 -999.0 -999.0   \n",
       "2         200.000  17947.0  371.0  150.0  226.0  299.0   87.0 -999.0 -999.0   \n",
       "3          64.770   9300.0  103.0  185.0  138.0 -999.0 -999.0 -999.0 -999.0   \n",
       "4         100.000   7262.0  583.0  150.0  135.0  330.0   87.0 -999.0 -999.0   \n",
       "\n",
       "    C1  ...     id_30     id_31     id_33     id_34     id_35     id_36  \\\n",
       "0  1.0  ...  0.055180  0.052937  0.058298  0.064618  0.045131  0.081638   \n",
       "1  2.0  ...  0.117835  0.091638  0.111753  0.117687  0.122390  0.081638   \n",
       "2  1.0  ...  0.031033  0.099742  0.027930  0.039809  0.044742  0.081877   \n",
       "3  1.0  ...  0.117835  0.104275  0.111753  0.117687  0.122390  0.081638   \n",
       "4  1.0  ...  0.030965  0.057440  0.028532  0.038956  0.044717  0.082000   \n",
       "\n",
       "      id_37     id_38  DeviceType  DeviceInfo  \n",
       "0  0.064254  0.097751    0.101652    0.063401  \n",
       "1  0.083800  0.097751    0.065296    0.064707  \n",
       "2  0.083433  0.097550    0.064939    0.064425  \n",
       "3  0.083800  0.097751    0.065296    0.106581  \n",
       "4  0.083767  0.098747    0.065030    0.065319  \n",
       "\n",
       "[5 rows x 431 columns]"
      ]
     },
     "execution_count": 28,
     "metadata": {},
     "output_type": "execute_result"
    }
   ],
   "source": [
    "X_pre_pd.head()"
   ]
  },
  {
   "cell_type": "code",
   "execution_count": 29,
   "id": "d8f90a88-aa06-4439-9435-f8d6a6985316",
   "metadata": {
    "id": "d8f90a88-aa06-4439-9435-f8d6a6985316"
   },
   "outputs": [
    {
     "data": {
      "text/plain": [
       "108"
      ]
     },
     "execution_count": 29,
     "metadata": {},
     "output_type": "execute_result"
    }
   ],
   "source": [
    "import gc\n",
    "gc.collect()"
   ]
  },
  {
   "cell_type": "markdown",
   "id": "RPNkXA5TMC1K",
   "metadata": {
    "id": "RPNkXA5TMC1K"
   },
   "source": [
    "# SMOTE"
   ]
  },
  {
   "cell_type": "code",
   "execution_count": 30,
   "id": "pBNjvRYxMDm7",
   "metadata": {
    "id": "pBNjvRYxMDm7"
   },
   "outputs": [],
   "source": [
    "sm = SMOTE(random_state=42,sampling_strategy=0.3)\n"
   ]
  },
  {
   "cell_type": "code",
   "execution_count": 31,
   "id": "eee02bed",
   "metadata": {},
   "outputs": [],
   "source": [
    "X_res, y_res = sm.fit_resample(X_pre_pd, y)"
   ]
  },
  {
   "cell_type": "code",
   "execution_count": 32,
   "id": "aW9NMEwYMuR6",
   "metadata": {
    "id": "aW9NMEwYMuR6"
   },
   "outputs": [
    {
     "data": {
      "text/plain": [
       "(120952, 431)"
      ]
     },
     "execution_count": 32,
     "metadata": {},
     "output_type": "execute_result"
    }
   ],
   "source": [
    "X_res.shape"
   ]
  },
  {
   "cell_type": "code",
   "execution_count": 33,
   "id": "-e2X1iP1Mw6G",
   "metadata": {
    "id": "-e2X1iP1Mw6G"
   },
   "outputs": [
    {
     "data": {
      "text/plain": [
       "19989"
      ]
     },
     "execution_count": 33,
     "metadata": {},
     "output_type": "execute_result"
    }
   ],
   "source": [
    "len(y_res)-len(y)"
   ]
  },
  {
   "cell_type": "markdown",
   "id": "e639b19c-097f-4efe-a241-b718fcd55a2b",
   "metadata": {
    "id": "e639b19c-097f-4efe-a241-b718fcd55a2b"
   },
   "source": [
    "# Optuna"
   ]
  },
  {
   "cell_type": "code",
   "execution_count": null,
   "id": "w8v_uRyEasf0",
   "metadata": {
    "colab": {
     "base_uri": "https://localhost:8080/"
    },
    "executionInfo": {
     "elapsed": 285,
     "status": "ok",
     "timestamp": 1660766891499,
     "user": {
      "displayName": "Joaquin Olego",
      "userId": "03367981204292782470"
     },
     "user_tz": 180
    },
    "id": "w8v_uRyEasf0",
    "outputId": "7197a1ea-c8dd-4538-ada6-06dab832297d"
   },
   "outputs": [],
   "source": [
    "import optuna.integration.lightgbm as lgb\n",
    "def default_objective(trial):\n",
    "\n",
    "    param = {\n",
    "                \"eval_metric\"           : \"auc\",\n",
    "                \"verbosity\"        : 3,\n",
    "                \"booster\": trial.suggest_categorical(\"booster\", [\"gbtree\", \"dart\"]),\n",
    "                \"gamma\": trial.suggest_loguniform(\"gamma\", 1e-8, 1.0),\n",
    "                \"grow_policy\": trial.suggest_categorical(\"grow_policy\", [\"depthwise\", \"lossguide\"]),\n",
    "                'max_depth'        :trial.suggest_int('max_depth', 2, 25),\n",
    "                \"n_estimators\"     : trial.suggest_int(\"n_estimators\", 50, 10000),\n",
    "                \"learning_rate\"   : trial.suggest_loguniform('learning_rate', 1e-8, 0.2),\n",
    "                \"reg_alpha\": trial.suggest_loguniform('reg_alpha', 1e-8, 5),\n",
    "                \"reg_lambda\": trial.suggest_loguniform('reg_lambda', 1e-8, 5),\n",
    "                \"min_split_gain\": trial.suggest_loguniform('min_split_gain', 1e-5, 1e0),\n",
    "                'colsample_bytree':trial.suggest_discrete_uniform('colsample_bytree',0.1,1,0.01),\n",
    "                'subsample' : trial.suggest_uniform('subsample' ,0.2,0.8)\n",
    "            }\n",
    "    \n",
    "    #model_pipeline  = make_pipeline(pre_pipe, LGBMClassifier(**param, silent=True,\n",
    "                                                                # metric='auc',\n",
    "    X_train, X_test, y_train, y_test = train_test_split(X_res, y_res, test_size=0.3, random_state=42, stratify=y_res)\n",
    "                                                            \n",
    "    model_pipeline = make_pipeline(None, LGBMClassifier( **param, n_jobs=-1\n",
    "                                                                ))                                          \n",
    "    m = model_pipeline.fit(X_train, y_train)\n",
    "    \n",
    "    preds           = m.predict_proba(X_test)[:,1]\n",
    "   # preds           = m.predict(X_test)\n",
    "    roc_score       = roc_auc_score(y_test, preds)\n",
    "   # f1_test= f1_score(y_test,preds)\n",
    "    preds_train     = m.predict_proba(X_train)[:,1]\n",
    "   # preds_train     = m.predict(X_train)\n",
    "  #  f1_train = f1_score(y_train,preds_train)\n",
    "    roc_score_train = roc_auc_score(y_train, preds_train)\n",
    "    trial.set_user_attr('overfit', roc_score_train - roc_score)\n",
    "    if abs(roc_score_train - roc_score) < 0.05:\n",
    "        return roc_score\n",
    "    raise TrialPruned()\n",
    "\n",
    "    if objective  == None:\n",
    "        objective = default_objective\n",
    "    else:\n",
    "        objective = objective"
   ]
  },
  {
   "cell_type": "code",
   "execution_count": null,
   "id": "46d95700",
   "metadata": {},
   "outputs": [],
   "source": [
    "def do_optuna_tuning(minimize_overfit = True):\n",
    "    study = optuna.create_study(direction = \"maximize\")\n",
    "    study.optimize(default_objective, n_trials = 150,n_jobs=-1)\n",
    "\n",
    "    if minimize_overfit:\n",
    "        trial      = study.best_trial\n",
    "        best_trial = sorted([t for t in study.trials if t.value != None and t.value >= trial.value - 0.0005],\n",
    "                            key = lambda a: a.user_attrs['overfit'])[0]\n",
    "    else:\n",
    "        best_trial = study.best_trial\n",
    "    params         = best_trial.params\n",
    "    params.update({'random_state': 42}) \n",
    "    return study,trial,best_trial"
   ]
  },
  {
   "cell_type": "code",
   "execution_count": null,
   "id": "70c93157",
   "metadata": {},
   "outputs": [],
   "source": [
    "study,trial,best_trial=do_optuna_tuning()"
   ]
  },
  {
   "cell_type": "code",
   "execution_count": null,
   "id": "126d318f",
   "metadata": {
    "colab": {
     "base_uri": "https://localhost:8080/",
     "height": 166
    },
    "executionInfo": {
     "elapsed": 989,
     "status": "error",
     "timestamp": 1660766267940,
     "user": {
      "displayName": "Joaquin Olego",
      "userId": "03367981204292782470"
     },
     "user_tz": 180
    },
    "id": "126d318f",
    "outputId": "71bc122d-2421-4d84-d974-0c5bf9dd206e"
   },
   "outputs": [],
   "source": [
    "best_trial\n"
   ]
  },
  {
   "cell_type": "code",
   "execution_count": null,
   "id": "VUMETfRE2hFz",
   "metadata": {
    "executionInfo": {
     "elapsed": 19,
     "status": "aborted",
     "timestamp": 1660753039399,
     "user": {
      "displayName": "Joaquin Olego",
      "userId": "03367981204292782470"
     },
     "user_tz": 180
    },
    "id": "VUMETfRE2hFz"
   },
   "outputs": [],
   "source": [
    "optuna.visualization.plot_optimization_history(study)\n"
   ]
  },
  {
   "cell_type": "code",
   "execution_count": null,
   "id": "DUAI9iMMBcOn",
   "metadata": {
    "colab": {
     "base_uri": "https://localhost:8080/",
     "height": 166
    },
    "executionInfo": {
     "elapsed": 281,
     "status": "error",
     "timestamp": 1660766274946,
     "user": {
      "displayName": "Joaquin Olego",
      "userId": "03367981204292782470"
     },
     "user_tz": 180
    },
    "id": "DUAI9iMMBcOn",
    "outputId": "44bd9b33-721c-47f8-dca1-170352eefeaf"
   },
   "outputs": [],
   "source": [
    "best_trial.params"
   ]
  },
  {
   "cell_type": "markdown",
   "id": "6761de34",
   "metadata": {
    "id": "lxXAreXwawre"
   },
   "source": [
    "## RandomizedSearchCV"
   ]
  },
  {
   "cell_type": "code",
   "execution_count": null,
   "id": "bb0048c5",
   "metadata": {
    "id": "C0a-Qh7gavx9"
   },
   "outputs": [],
   "source": [
    "from sklearn.model_selection import StratifiedKFold, KFold, GridSearchCV, RandomizedSearchCV, cross_validate\n"
   ]
  },
  {
   "cell_type": "code",
   "execution_count": null,
   "id": "a1f58e37",
   "metadata": {
    "id": "cf15d722-9064-48d1-8bee-4e6d0abdd437"
   },
   "outputs": [],
   "source": [
    "pars = {'n_estimators':range(50, 200, 5),'learning_rate':np.arange(0,1,0.01), 'max_depth':range(2,25,3), 'n_estimators':range(50,500,25),\n",
    "        'reg_alpha':[0.1,0.01,0.001,1,0.0001],'reg_lambda':[0.1,0.01,0.001,1,0.0001]}\n",
    "clf = RandomizedSearchCV(XGBClassifier(), pars, n_jobs=-1, scoring='roc_auc',cv=3, n_iter=500)\n"
   ]
  },
  {
   "cell_type": "code",
   "execution_count": null,
   "id": "2c2b7e23",
   "metadata": {
    "id": "ppsU4L_UbAxM"
   },
   "outputs": [],
   "source": [
    "clf.fit(X_res, y_res)\n",
    "ab = clf.best_estimator_\n",
    "print (clf.best_score_, clf.best_params_)\n",
    "print(\"ROC training : {:.3f}\".format(ab.score(X_res, y_res)))\n",
    "print(\"ROC test: {:.3f}\".format(ab.score(X_val, y_val)))"
   ]
  },
  {
   "cell_type": "markdown",
   "id": "Hgu-xNOwRx5f",
   "metadata": {
    "id": "Hgu-xNOwRx5f"
   },
   "source": [
    "# Re entreno mejores hiperparametros"
   ]
  },
  {
   "cell_type": "code",
   "execution_count": 34,
   "id": "j8Ih-k3LRzZU",
   "metadata": {
    "id": "j8Ih-k3LRzZU"
   },
   "outputs": [],
   "source": [
    "#params = best_trial.params\n",
    "params = {'booster': 'dart',\n",
    " 'gamma': 6.809838165457656e-07,\n",
    " 'grow_policy': 'depthwise',\n",
    " 'max_depth': 18,\n",
    " 'n_estimators': 5139,\n",
    " 'learning_rate': 0.08398279121454409,\n",
    " 'reg_alpha': 1.1871503314088151e-06,\n",
    " 'reg_lambda': 2.36401299672874e-05,\n",
    " #'min_split_gain': 1.996500311031048e-05,\n",
    " 'colsample_bytree': 0.8,\n",
    " 'subsample': 0.6244547423128666,\n",
    " 'random_state': 42}"
   ]
  },
  {
   "cell_type": "code",
   "execution_count": 35,
   "id": "Qn4nj6zDR0dy",
   "metadata": {
    "id": "Qn4nj6zDR0dy"
   },
   "outputs": [],
   "source": [
    "XGB_t = XGBClassifier(**params, verbosity=1,tree_method = 'gpu_hist', n_jobs=-1,feval = 'roc_auc_score')"
   ]
  },
  {
   "cell_type": "code",
   "execution_count": 36,
   "id": "qLr0n83TcBd8",
   "metadata": {
    "id": "qLr0n83TcBd8"
   },
   "outputs": [],
   "source": [
    "#?LGBM_t.fit()"
   ]
  },
  {
   "cell_type": "code",
   "execution_count": 37,
   "id": "njhLM7hhR67L",
   "metadata": {
    "colab": {
     "base_uri": "https://localhost:8080/"
    },
    "executionInfo": {
     "elapsed": 50377,
     "status": "ok",
     "timestamp": 1660518008911,
     "user": {
      "displayName": "Joaquin Olego",
      "userId": "03367981204292782470"
     },
     "user_tz": 180
    },
    "id": "njhLM7hhR67L",
    "outputId": "182ff7b6-47b9-490a-bc2a-acedfce385b6"
   },
   "outputs": [
    {
     "name": "stdout",
     "output_type": "stream",
     "text": [
      "[19:46:07] WARNING: ../src/learner.cc:627: \n",
      "Parameters: { \"feval\" } might not be used.\n",
      "\n",
      "  This could be a false alarm, with some parameters getting used by language bindings but\n",
      "  then being mistakenly passed down to XGBoost core, or some parameter actually being used\n",
      "  but getting flagged wrongly here. Please open an issue if you find any such cases.\n",
      "\n",
      "\n"
     ]
    },
    {
     "data": {
      "text/html": [
       "<style>#sk-container-id-1 {color: black;background-color: white;}#sk-container-id-1 pre{padding: 0;}#sk-container-id-1 div.sk-toggleable {background-color: white;}#sk-container-id-1 label.sk-toggleable__label {cursor: pointer;display: block;width: 100%;margin-bottom: 0;padding: 0.3em;box-sizing: border-box;text-align: center;}#sk-container-id-1 label.sk-toggleable__label-arrow:before {content: \"▸\";float: left;margin-right: 0.25em;color: #696969;}#sk-container-id-1 label.sk-toggleable__label-arrow:hover:before {color: black;}#sk-container-id-1 div.sk-estimator:hover label.sk-toggleable__label-arrow:before {color: black;}#sk-container-id-1 div.sk-toggleable__content {max-height: 0;max-width: 0;overflow: hidden;text-align: left;background-color: #f0f8ff;}#sk-container-id-1 div.sk-toggleable__content pre {margin: 0.2em;color: black;border-radius: 0.25em;background-color: #f0f8ff;}#sk-container-id-1 input.sk-toggleable__control:checked~div.sk-toggleable__content {max-height: 200px;max-width: 100%;overflow: auto;}#sk-container-id-1 input.sk-toggleable__control:checked~label.sk-toggleable__label-arrow:before {content: \"▾\";}#sk-container-id-1 div.sk-estimator input.sk-toggleable__control:checked~label.sk-toggleable__label {background-color: #d4ebff;}#sk-container-id-1 div.sk-label input.sk-toggleable__control:checked~label.sk-toggleable__label {background-color: #d4ebff;}#sk-container-id-1 input.sk-hidden--visually {border: 0;clip: rect(1px 1px 1px 1px);clip: rect(1px, 1px, 1px, 1px);height: 1px;margin: -1px;overflow: hidden;padding: 0;position: absolute;width: 1px;}#sk-container-id-1 div.sk-estimator {font-family: monospace;background-color: #f0f8ff;border: 1px dotted black;border-radius: 0.25em;box-sizing: border-box;margin-bottom: 0.5em;}#sk-container-id-1 div.sk-estimator:hover {background-color: #d4ebff;}#sk-container-id-1 div.sk-parallel-item::after {content: \"\";width: 100%;border-bottom: 1px solid gray;flex-grow: 1;}#sk-container-id-1 div.sk-label:hover label.sk-toggleable__label {background-color: #d4ebff;}#sk-container-id-1 div.sk-serial::before {content: \"\";position: absolute;border-left: 1px solid gray;box-sizing: border-box;top: 0;bottom: 0;left: 50%;z-index: 0;}#sk-container-id-1 div.sk-serial {display: flex;flex-direction: column;align-items: center;background-color: white;padding-right: 0.2em;padding-left: 0.2em;position: relative;}#sk-container-id-1 div.sk-item {position: relative;z-index: 1;}#sk-container-id-1 div.sk-parallel {display: flex;align-items: stretch;justify-content: center;background-color: white;position: relative;}#sk-container-id-1 div.sk-item::before, #sk-container-id-1 div.sk-parallel-item::before {content: \"\";position: absolute;border-left: 1px solid gray;box-sizing: border-box;top: 0;bottom: 0;left: 50%;z-index: -1;}#sk-container-id-1 div.sk-parallel-item {display: flex;flex-direction: column;z-index: 1;position: relative;background-color: white;}#sk-container-id-1 div.sk-parallel-item:first-child::after {align-self: flex-end;width: 50%;}#sk-container-id-1 div.sk-parallel-item:last-child::after {align-self: flex-start;width: 50%;}#sk-container-id-1 div.sk-parallel-item:only-child::after {width: 0;}#sk-container-id-1 div.sk-dashed-wrapped {border: 1px dashed gray;margin: 0 0.4em 0.5em 0.4em;box-sizing: border-box;padding-bottom: 0.4em;background-color: white;}#sk-container-id-1 div.sk-label label {font-family: monospace;font-weight: bold;display: inline-block;line-height: 1.2em;}#sk-container-id-1 div.sk-label-container {text-align: center;}#sk-container-id-1 div.sk-container {/* jupyter's `normalize.less` sets `[hidden] { display: none; }` but bootstrap.min.css set `[hidden] { display: none !important; }` so we also need the `!important` here to be able to override the default hidden behavior on the sphinx rendered scikit-learn.org. See: https://github.com/scikit-learn/scikit-learn/issues/21755 */display: inline-block !important;position: relative;}#sk-container-id-1 div.sk-text-repr-fallback {display: none;}</style><div id=\"sk-container-id-1\" class=\"sk-top-container\"><div class=\"sk-text-repr-fallback\"><pre>XGBClassifier(base_score=0.5, booster=&#x27;dart&#x27;, callbacks=None,\n",
       "              colsample_bylevel=1, colsample_bynode=1, colsample_bytree=0.8,\n",
       "              early_stopping_rounds=None, enable_categorical=False,\n",
       "              eval_metric=None, feval=&#x27;roc_auc_score&#x27;,\n",
       "              gamma=6.809838165457656e-07, gpu_id=0, grow_policy=&#x27;depthwise&#x27;,\n",
       "              importance_type=None, interaction_constraints=&#x27;&#x27;,\n",
       "              learning_rate=0.08398279121454409, max_bin=256,\n",
       "              max_cat_to_onehot=4, max_delta_step=0, max_depth=18, max_leaves=0,\n",
       "              min_child_weight=1, missing=nan, monotone_constraints=&#x27;()&#x27;,\n",
       "              n_estimators=5139, n_jobs=-1, num_parallel_tree=1,\n",
       "              predictor=&#x27;auto&#x27;, random_state=42,\n",
       "              reg_alpha=1.1871503314088151e-06, ...)</pre><b>In a Jupyter environment, please rerun this cell to show the HTML representation or trust the notebook. <br />On GitHub, the HTML representation is unable to render, please try loading this page with nbviewer.org.</b></div><div class=\"sk-container\" hidden><div class=\"sk-item\"><div class=\"sk-estimator sk-toggleable\"><input class=\"sk-toggleable__control sk-hidden--visually\" id=\"sk-estimator-id-1\" type=\"checkbox\" checked><label for=\"sk-estimator-id-1\" class=\"sk-toggleable__label sk-toggleable__label-arrow\">XGBClassifier</label><div class=\"sk-toggleable__content\"><pre>XGBClassifier(base_score=0.5, booster=&#x27;dart&#x27;, callbacks=None,\n",
       "              colsample_bylevel=1, colsample_bynode=1, colsample_bytree=0.8,\n",
       "              early_stopping_rounds=None, enable_categorical=False,\n",
       "              eval_metric=None, feval=&#x27;roc_auc_score&#x27;,\n",
       "              gamma=6.809838165457656e-07, gpu_id=0, grow_policy=&#x27;depthwise&#x27;,\n",
       "              importance_type=None, interaction_constraints=&#x27;&#x27;,\n",
       "              learning_rate=0.08398279121454409, max_bin=256,\n",
       "              max_cat_to_onehot=4, max_delta_step=0, max_depth=18, max_leaves=0,\n",
       "              min_child_weight=1, missing=nan, monotone_constraints=&#x27;()&#x27;,\n",
       "              n_estimators=5139, n_jobs=-1, num_parallel_tree=1,\n",
       "              predictor=&#x27;auto&#x27;, random_state=42,\n",
       "              reg_alpha=1.1871503314088151e-06, ...)</pre></div></div></div></div></div>"
      ],
      "text/plain": [
       "XGBClassifier(base_score=0.5, booster='dart', callbacks=None,\n",
       "              colsample_bylevel=1, colsample_bynode=1, colsample_bytree=0.8,\n",
       "              early_stopping_rounds=None, enable_categorical=False,\n",
       "              eval_metric=None, feval='roc_auc_score',\n",
       "              gamma=6.809838165457656e-07, gpu_id=0, grow_policy='depthwise',\n",
       "              importance_type=None, interaction_constraints='',\n",
       "              learning_rate=0.08398279121454409, max_bin=256,\n",
       "              max_cat_to_onehot=4, max_delta_step=0, max_depth=18, max_leaves=0,\n",
       "              min_child_weight=1, missing=nan, monotone_constraints='()',\n",
       "              n_estimators=5139, n_jobs=-1, num_parallel_tree=1,\n",
       "              predictor='auto', random_state=42,\n",
       "              reg_alpha=1.1871503314088151e-06, ...)"
      ]
     },
     "execution_count": 37,
     "metadata": {},
     "output_type": "execute_result"
    }
   ],
   "source": [
    "XGB_t.fit(X_res,y_res)#,eval_metric='recall_score')\n"
   ]
  },
  {
   "cell_type": "code",
   "execution_count": 38,
   "id": "uHCDz8YtR83H",
   "metadata": {
    "id": "uHCDz8YtR83H"
   },
   "outputs": [],
   "source": [
    "train_out = XGB_t.predict_proba(X_res)\n",
    "test_out  = XGB_t.predict_proba(X_val_pre)"
   ]
  },
  {
   "cell_type": "code",
   "execution_count": 39,
   "id": "1f2SpEdBR_rW",
   "metadata": {
    "colab": {
     "base_uri": "https://localhost:8080/"
    },
    "executionInfo": {
     "elapsed": 694,
     "status": "ok",
     "timestamp": 1660518873112,
     "user": {
      "displayName": "Joaquin Olego",
      "userId": "03367981204292782470"
     },
     "user_tz": 180
    },
    "id": "1f2SpEdBR_rW",
    "outputId": "3decd08b-9416-4dc8-e049-a005d42de06e"
   },
   "outputs": [
    {
     "name": "stdout",
     "output_type": "stream",
     "text": [
      "ROC Train: 1.0\n",
      "ROC Val: 0.9786459157621618\n"
     ]
    }
   ],
   "source": [
    "print(\"ROC Train: \"+str(roc_auc_score(np.array(y_res),train_out[:,1])))\n",
    "print(\"ROC Val: \"+str(roc_auc_score(np.array(y_val),test_out[:,1])))"
   ]
  },
  {
   "cell_type": "code",
   "execution_count": 40,
   "id": "B4abESLDckvg",
   "metadata": {
    "id": "B4abESLDckvg"
   },
   "outputs": [],
   "source": [
    "train_out = XGB_t.predict(X_res)\n",
    "test_out  = XGB_t.predict(X_val_pre)"
   ]
  },
  {
   "cell_type": "code",
   "execution_count": 41,
   "id": "QCUlH3aTcyzO",
   "metadata": {
    "colab": {
     "base_uri": "https://localhost:8080/"
    },
    "executionInfo": {
     "elapsed": 498,
     "status": "ok",
     "timestamp": 1660518890650,
     "user": {
      "displayName": "Joaquin Olego",
      "userId": "03367981204292782470"
     },
     "user_tz": 180
    },
    "id": "QCUlH3aTcyzO",
    "outputId": "a27f4fcc-cad4-42d0-a3ed-c56e226df832"
   },
   "outputs": [
    {
     "name": "stdout",
     "output_type": "stream",
     "text": [
      "F1 Score Train: 1.0\n",
      "F1 Score Val: 0.7311192530433754\n"
     ]
    }
   ],
   "source": [
    "\n",
    "print(\"F1 Score Train: \"+str(f1_score(np.array(y_res),train_out)))\n",
    "print(\"F1 Score Val: \"+str(f1_score(np.array(y_val),test_out)))"
   ]
  },
  {
   "cell_type": "code",
   "execution_count": 42,
   "id": "dF-TzDwZc_ds",
   "metadata": {
    "colab": {
     "base_uri": "https://localhost:8080/"
    },
    "executionInfo": {
     "elapsed": 9,
     "status": "ok",
     "timestamp": 1660518015652,
     "user": {
      "displayName": "Joaquin Olego",
      "userId": "03367981204292782470"
     },
     "user_tz": 180
    },
    "id": "dF-TzDwZc_ds",
    "outputId": "0f798468-1b88-4432-d675-f51bf9e8e8b1"
   },
   "outputs": [
    {
     "name": "stdout",
     "output_type": "stream",
     "text": [
      "Recal Score Train: 1.0\n",
      "Recall Score Val: 0.9110456553755523\n"
     ]
    }
   ],
   "source": [
    "\n",
    "print(\"Recal Score Train: \"+str(recall_score(np.array(y_res),train_out)))\n",
    "print(\"Recall Score Val: \"+str(recall_score(np.array(y_val),test_out)))"
   ]
  },
  {
   "cell_type": "code",
   "execution_count": 43,
   "id": "IqlaeWmvdI-6",
   "metadata": {
    "colab": {
     "base_uri": "https://localhost:8080/"
    },
    "executionInfo": {
     "elapsed": 428,
     "status": "ok",
     "timestamp": 1660518016074,
     "user": {
      "displayName": "Joaquin Olego",
      "userId": "03367981204292782470"
     },
     "user_tz": 180
    },
    "id": "IqlaeWmvdI-6",
    "outputId": "4b8cd6df-0f05-4e91-982c-338788ea9555"
   },
   "outputs": [
    {
     "name": "stdout",
     "output_type": "stream",
     "text": [
      "Accuracy Score Train: 1.0\n",
      "Accuracy Score Val: 0.9474231569216547\n"
     ]
    }
   ],
   "source": [
    "\n",
    "print(\"Accuracy Score Train: \"+str(accuracy_score(np.array(y_res),train_out)))\n",
    "print(\"Accuracy Score Val: \"+str(accuracy_score(np.array(y_val),test_out)))"
   ]
  },
  {
   "cell_type": "code",
   "execution_count": 44,
   "id": "D-MOffRTddbc",
   "metadata": {
    "colab": {
     "base_uri": "https://localhost:8080/"
    },
    "executionInfo": {
     "elapsed": 15,
     "status": "ok",
     "timestamp": 1660518016076,
     "user": {
      "displayName": "Joaquin Olego",
      "userId": "03367981204292782470"
     },
     "user_tz": 180
    },
    "id": "D-MOffRTddbc",
    "outputId": "c5d6cf46-f2d3-4c96-c5e0-883e53def0b6"
   },
   "outputs": [
    {
     "data": {
      "text/plain": [
       "(array([93040,     0,     0,     0,     0,     0,     0,     0,     0,\n",
       "        27912]),\n",
       " array([0. , 0.1, 0.2, 0.3, 0.4, 0.5, 0.6, 0.7, 0.8, 0.9, 1. ]))"
      ]
     },
     "execution_count": 44,
     "metadata": {},
     "output_type": "execute_result"
    }
   ],
   "source": [
    "np.histogram(train_out)"
   ]
  },
  {
   "cell_type": "code",
   "execution_count": 45,
   "id": "Vw5fScYPdhpR",
   "metadata": {
    "id": "Vw5fScYPdhpR"
   },
   "outputs": [],
   "source": [
    "from sklearn.metrics import confusion_matrix\n",
    "\n",
    "tn, fp, fn, tp =  confusion_matrix(y_val,test_out).ravel()"
   ]
  },
  {
   "cell_type": "code",
   "execution_count": 46,
   "id": "p7dlGLEjd36P",
   "metadata": {
    "colab": {
     "base_uri": "https://localhost:8080/"
    },
    "executionInfo": {
     "elapsed": 11,
     "status": "ok",
     "timestamp": 1660518016078,
     "user": {
      "displayName": "Joaquin Olego",
      "userId": "03367981204292782470"
     },
     "user_tz": 180
    },
    "id": "p7dlGLEjd36P",
    "outputId": "5b93b9fc-c10d-409f-df02-96ecd2a96062"
   },
   "outputs": [
    {
     "data": {
      "text/plain": [
       "(37902, 1973, 302, 3093)"
      ]
     },
     "execution_count": 46,
     "metadata": {},
     "output_type": "execute_result"
    }
   ],
   "source": [
    "(tn, fp, fn, tp)"
   ]
  },
  {
   "cell_type": "code",
   "execution_count": null,
   "id": "154ffe9a",
   "metadata": {},
   "outputs": [],
   "source": []
  },
  {
   "cell_type": "markdown",
   "id": "74ad8480",
   "metadata": {
    "id": "gcyF-g71eAKM"
   },
   "source": []
  },
  {
   "cell_type": "code",
   "execution_count": null,
   "id": "27efa6c1",
   "metadata": {},
   "outputs": [],
   "source": []
  },
  {
   "cell_type": "code",
   "execution_count": null,
   "id": "e8657e0c",
   "metadata": {},
   "outputs": [],
   "source": []
  },
  {
   "cell_type": "code",
   "execution_count": 47,
   "id": "a4c495fc",
   "metadata": {},
   "outputs": [],
   "source": [
    "import joblib\n"
   ]
  },
  {
   "cell_type": "code",
   "execution_count": 48,
   "id": "b56f1be1",
   "metadata": {},
   "outputs": [
    {
     "data": {
      "text/plain": [
       "['./xgb.pkl']"
      ]
     },
     "execution_count": 48,
     "metadata": {},
     "output_type": "execute_result"
    }
   ],
   "source": [
    "pipe = make_pipeline(preprocessor,XGB_t)\n",
    "\n",
    "\n",
    "joblib.dump(pipe, './xgb.pkl')\n",
    "\n"
   ]
  },
  {
   "cell_type": "code",
   "execution_count": null,
   "id": "097bcb63",
   "metadata": {},
   "outputs": [],
   "source": []
  }
 ],
 "metadata": {
  "colab": {
   "collapsed_sections": [
    "c76b8b22-a8a4-45b5-90b7-61cff08608f2",
    "Hgu-xNOwRx5f"
   ],
   "name": "07_XGBoost-SMOTE.ipynb",
   "provenance": []
  },
  "kernelspec": {
   "display_name": "Python 3",
   "language": "python",
   "name": "python3"
  },
  "language_info": {
   "codemirror_mode": {
    "name": "ipython",
    "version": 3
   },
   "file_extension": ".py",
   "mimetype": "text/x-python",
   "name": "python",
   "nbconvert_exporter": "python",
   "pygments_lexer": "ipython3",
   "version": "3.8.8"
  }
 },
 "nbformat": 4,
 "nbformat_minor": 5
}
